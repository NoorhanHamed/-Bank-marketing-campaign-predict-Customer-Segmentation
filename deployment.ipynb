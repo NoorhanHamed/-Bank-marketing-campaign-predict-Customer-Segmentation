{
 "cells": [
  {
   "cell_type": "code",
   "execution_count": 5,
   "id": "04d799fb",
   "metadata": {},
   "outputs": [],
   "source": [
    "import pandas as pd \n",
    "import joblib \n",
    "import streamlit as st\n",
    "import category_encoders\n",
    "import sklearn\n",
    "import xgboost\n",
    "import imblearn\n"
   ]
  },
  {
   "cell_type": "code",
   "execution_count": 6,
   "id": "e39ef259",
   "metadata": {},
   "outputs": [],
   "source": [
    "model= joblib.load( \"final_pipeline_Model.h5\")\n",
    "inputs = joblib.load(\"final_input.h5\")"
   ]
  },
  {
   "cell_type": "code",
   "execution_count": 7,
   "id": "fa6648c6",
   "metadata": {},
   "outputs": [
    {
     "name": "stdout",
     "output_type": "stream",
     "text": [
      "Overwriting app.py\n"
     ]
    }
   ],
   "source": [
    "%%writefile app.py\n",
    "import pandas as pd \n",
    "import joblib \n",
    "import streamlit as st\n",
    "import sklearn\n",
    "import xgboost\n",
    "import imblearn\n",
    "import category_encoders\n",
    "model= joblib.load('final_pipeline_Model.h5')\n",
    "inputs = joblib.load('final_input.h5')\n",
    "\n",
    "\n",
    "\n",
    "\n",
    "def predict(customer_age,job_type, marital, education,default,balance, housing_loan, personal_loan,\n",
    "             communication_type,month, num_contacts_in_campaign, num_contacts_prev_campaign,\n",
    "             prev_campaign_outcome, call_dura_in_min, day_month_binned,\n",
    "             new_client_contact_this_campaign ):\n",
    "    \n",
    "    \n",
    "    test_df = pd.DataFrame(columns=inputs)\n",
    "    test_df.at[0,'customer_age']=customer_age\n",
    "    test_df.at[0,'job_type']=job_type\n",
    "    test_df.at[0,'marital']=marital\n",
    "    test_df.at[0,'education']=education\n",
    "    test_df.at[0,'default']=default\n",
    "    test_df.at[0,'balance']=balance\n",
    "    test_df.at[0,'housing_loan']=housing_loan\n",
    "    test_df.at[0,'personal_loan']=personal_loan\n",
    "    test_df.at[0,'communication_type']=communication_type\n",
    "    test_df.at[0,'month']=month\n",
    "    test_df.at[0,'num_contacts_in_campaign']=num_contacts_in_campaign\n",
    "    test_df.at[0,'num_contacts_prev_campaign']=num_contacts_prev_campaign\n",
    "    test_df.at[0,'prev_campaign_outcome']=prev_campaign_outcome\n",
    "    test_df.at[0,'call_dura_in_min']=call_dura_in_min\n",
    "    test_df.at[0,'day_month_binned']=day_month_binned\n",
    "    test_df.at[0,'new_client_contact_this_campaign']=new_client_contact_this_campaign\n",
    "    result = model.predict(test_df)[0]\n",
    "    return  result\n",
    "\n",
    "\n",
    "\n",
    "\n",
    "\n",
    "\n",
    "def main():\n",
    "    \n",
    "   \n",
    "    st.title('Client Deposit Status')\n",
    "    st.image(\"\"\"D:\\1580024684661.jpeg\"\"\")\n",
    "\n",
    "    customer_age=st.slider('customer_age', min_value=18.0 , max_value=97.0, value= 20.0 , step=1.0)\n",
    "    job_type=st.selectbox('job_type',['blue-collar', 'management','technician','admin.','services','retired','self-employed','entrepreneur','unemployed'\n",
    "                                   ,'housemaid','student','unknown'])\n",
    "    marital=st.selectbox('marital', ['married','single','divorced'])\n",
    "    education=st.selectbox('education',['secondary','tertiary','primary','unknown'])\n",
    "    default=st.selectbox('default',['no','yes'])\n",
    "    balance=st.number_input('balance', min_value=None, max_value=None, value=1000, step=None)\n",
    "    housing_loan=st.selectbox('housing_loan',['no','yes'])\n",
    "    personal_loan=st.selectbox('personal_loan',['no','yes'])\n",
    "    communication_type=st.selectbox('communication_type',['cellular','unknown','telephone'])\n",
    "    month=st.selectbox('month',['may', 'jul','aug','jun','nov','apr', 'feb','jan','oct','sep','mar','dec'])\n",
    "    num_contacts_in_campaign=st.number_input('num_contacts_in_campaign', min_value=1.0 , max_value=63.0, value= 5.0 , step=1.0)\n",
    "    num_contacts_prev_campaign=st.number_input('num_contacts_prev_campaign', min_value=1 , max_value=15, value= 5 , step=1)\n",
    "    prev_campaign_outcome=st.selectbox('prev_campaign_outcome',['failure','other','success','unknown'])\n",
    "    call_dura_in_min=st.slider('call_dura_in_min', min_value=0.0 , max_value=81.0, value= 20.0 , step=1.0)\n",
    "    day_month_binned=st.selectbox('day_month_binned',['<11','10:20', ' >20'])\n",
    "    new_client_contact_this_campaign= st.selectbox('new_client_contact_this_campaign',[1,0])\n",
    "    if st.button('predict'):\n",
    "        result=  predict(customer_age,job_type, marital, education,default,balance, housing_loan, personal_loan,\n",
    "             communication_type,month, num_contacts_in_campaign, num_contacts_prev_campaign,\n",
    "             prev_campaign_outcome, call_dura_in_min, day_month_binned,\n",
    "             new_client_contact_this_campaign )\n",
    "        st.write('your Client Deposit Status is {} '.format(result))\n",
    "if __name__== '__main__':\n",
    "    main()\n",
    "    \n",
    "\n",
    "    \n",
    "    \n",
    "    \n",
    "\n",
    "    \n",
    "    \n",
    "    \n",
    "    \n",
    "    \n",
    "    \n",
    "    \n",
    "    \n",
    "    \n",
    "    \n",
    "    \n",
    "    \n",
    "    \n",
    "    \n",
    "    "
   ]
  },
  {
   "cell_type": "code",
   "execution_count": null,
   "id": "6d7d66f4",
   "metadata": {},
   "outputs": [],
   "source": [
    "!streamlit run final_project_deploy.py"
   ]
  },
  {
   "cell_type": "code",
   "execution_count": null,
   "id": "6c2f2c3a",
   "metadata": {},
   "outputs": [],
   "source": []
  },
  {
   "cell_type": "code",
   "execution_count": null,
   "id": "8225442f",
   "metadata": {},
   "outputs": [],
   "source": []
  }
 ],
 "metadata": {
  "kernelspec": {
   "display_name": "Python 3 (ipykernel)",
   "language": "python",
   "name": "python3"
  },
  "language_info": {
   "codemirror_mode": {
    "name": "ipython",
    "version": 3
   },
   "file_extension": ".py",
   "mimetype": "text/x-python",
   "name": "python",
   "nbconvert_exporter": "python",
   "pygments_lexer": "ipython3",
   "version": "3.9.1"
  }
 },
 "nbformat": 4,
 "nbformat_minor": 5
}

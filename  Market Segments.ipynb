{
 "cells": [
  {
   "cell_type": "code",
   "execution_count": 137,
   "id": "a589c676",
   "metadata": {},
   "outputs": [],
   "source": [
    "import pandas as pd\n",
    "import numpy as np\n",
    "import seaborn as sns\n",
    "import matplotlib.pyplot as plt\n",
    "from imblearn.over_sampling import SMOTE\n",
    "from imblearn.under_sampling import RandomUnderSampler\n",
    "from imblearn.pipeline import Pipeline \n",
    "from sklearn.preprocessing import StandardScaler , RobustScaler , MinMaxScaler, OneHotEncoder\n",
    "from sklearn.model_selection import train_test_split, cross_validate, RandomizedSearchCV, GridSearchCV, cross_val_score\n",
    "from sklearn.metrics import confusion_matrix, accuracy_score, f1_score, silhouette_score\n",
    "from sklearn.compose import ColumnTransformer\n",
    "from category_encoders import BinaryEncoder\n",
    "from sklearn.impute import SimpleImputer, KNNImputer\n",
    "from sklearn.cluster import KMeans , AgglomerativeClustering \n",
    "from sklearn.decomposition import PCA\n",
    "\n",
    "\n"
   ]
  },
  {
   "cell_type": "code",
   "execution_count": 138,
   "id": "5fd314b5",
   "metadata": {},
   "outputs": [],
   "source": [
    "df=pd.read_csv('modifed_data.csv')"
   ]
  },
  {
   "cell_type": "code",
   "execution_count": 139,
   "id": "616070db",
   "metadata": {},
   "outputs": [
    {
     "name": "stdout",
     "output_type": "stream",
     "text": [
      "<class 'pandas.core.frame.DataFrame'>\n",
      "RangeIndex: 31566 entries, 0 to 31565\n",
      "Data columns (total 17 columns):\n",
      " #   Column                            Non-Null Count  Dtype  \n",
      "---  ------                            --------------  -----  \n",
      " 0   customer_age                      30948 non-null  float64\n",
      " 1   job_type                          31566 non-null  object \n",
      " 2   marital                           31416 non-null  object \n",
      " 3   education                         31566 non-null  object \n",
      " 4   default                           31566 non-null  object \n",
      " 5   balance                           31168 non-null  float64\n",
      " 6   housing_loan                      31566 non-null  object \n",
      " 7   personal_loan                     31417 non-null  object \n",
      " 8   communication_type                31566 non-null  object \n",
      " 9   month                             31566 non-null  object \n",
      " 10  num_contacts_in_campaign          31454 non-null  float64\n",
      " 11  num_contacts_prev_campaign        31566 non-null  int64  \n",
      " 12  prev_campaign_outcome             31566 non-null  object \n",
      " 13  term_deposit_subscribed           31566 non-null  int64  \n",
      " 14  call_dura_in_min                  31257 non-null  float64\n",
      " 15  day_month_binned                  31566 non-null  object \n",
      " 16  new_client_contact_this_campaign  31566 non-null  int64  \n",
      "dtypes: float64(4), int64(3), object(10)\n",
      "memory usage: 4.1+ MB\n"
     ]
    }
   ],
   "source": [
    "df.info()"
   ]
  },
  {
   "cell_type": "code",
   "execution_count": 4,
   "id": "055db44b",
   "metadata": {},
   "outputs": [
    {
     "data": {
      "text/plain": [
       "customer_age                        1.957803\n",
       "job_type                            0.000000\n",
       "marital                             0.475195\n",
       "education                           0.000000\n",
       "default                             0.000000\n",
       "balance                             1.260850\n",
       "housing_loan                        0.000000\n",
       "personal_loan                       0.472027\n",
       "communication_type                  0.000000\n",
       "month                               0.000000\n",
       "num_contacts_in_campaign            0.354812\n",
       "num_contacts_prev_campaign          0.000000\n",
       "prev_campaign_outcome               0.000000\n",
       "term_deposit_subscribed             0.000000\n",
       "call_dura_in_min                    0.978901\n",
       "day_month_binned                    0.000000\n",
       "new_client_contact_this_campaign    0.000000\n",
       "dtype: float64"
      ]
     },
     "execution_count": 4,
     "metadata": {},
     "output_type": "execute_result"
    }
   ],
   "source": [
    "df.isnull().mean()*100"
   ]
  },
  {
   "cell_type": "code",
   "execution_count": 5,
   "id": "f6c852e9",
   "metadata": {},
   "outputs": [
    {
     "data": {
      "text/plain": [
       "Index(['job_type', 'marital', 'education', 'default', 'housing_loan',\n",
       "       'personal_loan', 'communication_type', 'month', 'prev_campaign_outcome',\n",
       "       'day_month_binned'],\n",
       "      dtype='object')"
      ]
     },
     "execution_count": 5,
     "metadata": {},
     "output_type": "execute_result"
    }
   ],
   "source": [
    " df.select_dtypes('object').columns"
   ]
  },
  {
   "cell_type": "code",
   "execution_count": 6,
   "id": "259ac862",
   "metadata": {},
   "outputs": [],
   "source": [
    "num_col=['customer_age', 'balance','num_contacts_in_campaign','call_dura_in_min']"
   ]
  },
  {
   "cell_type": "code",
   "execution_count": 7,
   "id": "eaf62aa1",
   "metadata": {},
   "outputs": [],
   "source": [
    "cat_col=['personal_loan', 'marital'] "
   ]
  },
  {
   "cell_type": "code",
   "execution_count": 8,
   "id": "5db1c4ac",
   "metadata": {},
   "outputs": [],
   "source": [
    "x=df.drop(['term_deposit_subscribed'] , axis=1)\n",
    "y=df['term_deposit_subscribed']"
   ]
  },
  {
   "cell_type": "markdown",
   "id": "651939ba",
   "metadata": {},
   "source": [
    "## Kmeans"
   ]
  },
  {
   "cell_type": "code",
   "execution_count": 9,
   "id": "92fe2cd6",
   "metadata": {},
   "outputs": [],
   "source": [
    "steps_1=list()\n",
    "steps_1.append(('imputer',  SimpleImputer(strategy='most_frequent')))\n",
    "steps_1.append(('Encoder',OneHotEncoder(sparse=False , drop='first') ))\n",
    "pipline_1= Pipeline(steps=steps_1)"
   ]
  },
  {
   "cell_type": "code",
   "execution_count": 10,
   "id": "1e29f703",
   "metadata": {},
   "outputs": [
    {
     "data": {
      "text/html": [
       "<style>#sk-container-id-1 {color: black;background-color: white;}#sk-container-id-1 pre{padding: 0;}#sk-container-id-1 div.sk-toggleable {background-color: white;}#sk-container-id-1 label.sk-toggleable__label {cursor: pointer;display: block;width: 100%;margin-bottom: 0;padding: 0.3em;box-sizing: border-box;text-align: center;}#sk-container-id-1 label.sk-toggleable__label-arrow:before {content: \"▸\";float: left;margin-right: 0.25em;color: #696969;}#sk-container-id-1 label.sk-toggleable__label-arrow:hover:before {color: black;}#sk-container-id-1 div.sk-estimator:hover label.sk-toggleable__label-arrow:before {color: black;}#sk-container-id-1 div.sk-toggleable__content {max-height: 0;max-width: 0;overflow: hidden;text-align: left;background-color: #f0f8ff;}#sk-container-id-1 div.sk-toggleable__content pre {margin: 0.2em;color: black;border-radius: 0.25em;background-color: #f0f8ff;}#sk-container-id-1 input.sk-toggleable__control:checked~div.sk-toggleable__content {max-height: 200px;max-width: 100%;overflow: auto;}#sk-container-id-1 input.sk-toggleable__control:checked~label.sk-toggleable__label-arrow:before {content: \"▾\";}#sk-container-id-1 div.sk-estimator input.sk-toggleable__control:checked~label.sk-toggleable__label {background-color: #d4ebff;}#sk-container-id-1 div.sk-label input.sk-toggleable__control:checked~label.sk-toggleable__label {background-color: #d4ebff;}#sk-container-id-1 input.sk-hidden--visually {border: 0;clip: rect(1px 1px 1px 1px);clip: rect(1px, 1px, 1px, 1px);height: 1px;margin: -1px;overflow: hidden;padding: 0;position: absolute;width: 1px;}#sk-container-id-1 div.sk-estimator {font-family: monospace;background-color: #f0f8ff;border: 1px dotted black;border-radius: 0.25em;box-sizing: border-box;margin-bottom: 0.5em;}#sk-container-id-1 div.sk-estimator:hover {background-color: #d4ebff;}#sk-container-id-1 div.sk-parallel-item::after {content: \"\";width: 100%;border-bottom: 1px solid gray;flex-grow: 1;}#sk-container-id-1 div.sk-label:hover label.sk-toggleable__label {background-color: #d4ebff;}#sk-container-id-1 div.sk-serial::before {content: \"\";position: absolute;border-left: 1px solid gray;box-sizing: border-box;top: 0;bottom: 0;left: 50%;z-index: 0;}#sk-container-id-1 div.sk-serial {display: flex;flex-direction: column;align-items: center;background-color: white;padding-right: 0.2em;padding-left: 0.2em;position: relative;}#sk-container-id-1 div.sk-item {position: relative;z-index: 1;}#sk-container-id-1 div.sk-parallel {display: flex;align-items: stretch;justify-content: center;background-color: white;position: relative;}#sk-container-id-1 div.sk-item::before, #sk-container-id-1 div.sk-parallel-item::before {content: \"\";position: absolute;border-left: 1px solid gray;box-sizing: border-box;top: 0;bottom: 0;left: 50%;z-index: -1;}#sk-container-id-1 div.sk-parallel-item {display: flex;flex-direction: column;z-index: 1;position: relative;background-color: white;}#sk-container-id-1 div.sk-parallel-item:first-child::after {align-self: flex-end;width: 50%;}#sk-container-id-1 div.sk-parallel-item:last-child::after {align-self: flex-start;width: 50%;}#sk-container-id-1 div.sk-parallel-item:only-child::after {width: 0;}#sk-container-id-1 div.sk-dashed-wrapped {border: 1px dashed gray;margin: 0 0.4em 0.5em 0.4em;box-sizing: border-box;padding-bottom: 0.4em;background-color: white;}#sk-container-id-1 div.sk-label label {font-family: monospace;font-weight: bold;display: inline-block;line-height: 1.2em;}#sk-container-id-1 div.sk-label-container {text-align: center;}#sk-container-id-1 div.sk-container {/* jupyter's `normalize.less` sets `[hidden] { display: none; }` but bootstrap.min.css set `[hidden] { display: none !important; }` so we also need the `!important` here to be able to override the default hidden behavior on the sphinx rendered scikit-learn.org. See: https://github.com/scikit-learn/scikit-learn/issues/21755 */display: inline-block !important;position: relative;}#sk-container-id-1 div.sk-text-repr-fallback {display: none;}</style><div id=\"sk-container-id-1\" class=\"sk-top-container\"><div class=\"sk-text-repr-fallback\"><pre>Pipeline(steps=[(&#x27;imputer&#x27;, SimpleImputer(strategy=&#x27;most_frequent&#x27;)),\n",
       "                (&#x27;Encoder&#x27;, OneHotEncoder(drop=&#x27;first&#x27;, sparse=False))])</pre><b>In a Jupyter environment, please rerun this cell to show the HTML representation or trust the notebook. <br />On GitHub, the HTML representation is unable to render, please try loading this page with nbviewer.org.</b></div><div class=\"sk-container\" hidden><div class=\"sk-item sk-dashed-wrapped\"><div class=\"sk-label-container\"><div class=\"sk-label sk-toggleable\"><input class=\"sk-toggleable__control sk-hidden--visually\" id=\"sk-estimator-id-1\" type=\"checkbox\" ><label for=\"sk-estimator-id-1\" class=\"sk-toggleable__label sk-toggleable__label-arrow\">Pipeline</label><div class=\"sk-toggleable__content\"><pre>Pipeline(steps=[(&#x27;imputer&#x27;, SimpleImputer(strategy=&#x27;most_frequent&#x27;)),\n",
       "                (&#x27;Encoder&#x27;, OneHotEncoder(drop=&#x27;first&#x27;, sparse=False))])</pre></div></div></div><div class=\"sk-serial\"><div class=\"sk-item\"><div class=\"sk-estimator sk-toggleable\"><input class=\"sk-toggleable__control sk-hidden--visually\" id=\"sk-estimator-id-2\" type=\"checkbox\" ><label for=\"sk-estimator-id-2\" class=\"sk-toggleable__label sk-toggleable__label-arrow\">SimpleImputer</label><div class=\"sk-toggleable__content\"><pre>SimpleImputer(strategy=&#x27;most_frequent&#x27;)</pre></div></div></div><div class=\"sk-item\"><div class=\"sk-estimator sk-toggleable\"><input class=\"sk-toggleable__control sk-hidden--visually\" id=\"sk-estimator-id-3\" type=\"checkbox\" ><label for=\"sk-estimator-id-3\" class=\"sk-toggleable__label sk-toggleable__label-arrow\">OneHotEncoder</label><div class=\"sk-toggleable__content\"><pre>OneHotEncoder(drop=&#x27;first&#x27;, sparse=False)</pre></div></div></div></div></div></div></div>"
      ],
      "text/plain": [
       "Pipeline(steps=[('imputer', SimpleImputer(strategy='most_frequent')),\n",
       "                ('Encoder', OneHotEncoder(drop='first', sparse=False))])"
      ]
     },
     "execution_count": 10,
     "metadata": {},
     "output_type": "execute_result"
    }
   ],
   "source": [
    "pipline_1"
   ]
  },
  {
   "cell_type": "code",
   "execution_count": 11,
   "id": "a1493cde",
   "metadata": {},
   "outputs": [],
   "source": [
    "col_trasformer= ColumnTransformer(transformers=[('category_trans_1',pipline_1, cat_col), ('num_trans', KNNImputer(),num_col),\n",
    "                                                ('category_trans_2',BinaryEncoder(),['job_type', 'education', 'default', 'housing_loan','communication_type', 'month', 'prev_campaign_outcome','day_month_binned'])]\n",
    "                                  ,remainder='passthrough')"
   ]
  },
  {
   "cell_type": "code",
   "execution_count": 12,
   "id": "ac981228",
   "metadata": {},
   "outputs": [],
   "source": [
    "inertia = list()\n",
    "k_range = range(2 , 20)\n",
    "for k in k_range:\n",
    "    steps=list()\n",
    "    steps.append(('col_trans',col_trasformer ))\n",
    "    #steps.append(('ROS',SMOTE(sampling_strategy=0.2)))\n",
    "    #steps.append(('RUS',RandomUnderSampler(sampling_strategy=0.5)))\n",
    "    steps.append((\"Scaler\" , MinMaxScaler()))\n",
    "    steps.append((\"Model\" , KMeans(n_clusters=k)))\n",
    "    pipeline = Pipeline(steps = steps)\n",
    "    pipeline.fit(df)\n",
    "    inertia.append(pipeline[\"Model\"].inertia_)"
   ]
  },
  {
   "cell_type": "code",
   "execution_count": 13,
   "id": "f2ed7a8a",
   "metadata": {},
   "outputs": [
    {
     "data": {
      "text/plain": [
       "<AxesSubplot:>"
      ]
     },
     "execution_count": 13,
     "metadata": {},
     "output_type": "execute_result"
    },
    {
     "data": {
      "image/png": "[encoded data removed]",
      "text/plain": [
       "<Figure size 432x288 with 1 Axes>"
      ]
     },
     "metadata": {
      "needs_background": "light"
     },
     "output_type": "display_data"
    }
   ],
   "source": [
    "sns.lineplot(x = k_range , y = inertia)"
   ]
  },
  {
   "cell_type": "code",
   "execution_count": 14,
   "id": "8e5bb8e0",
   "metadata": {},
   "outputs": [],
   "source": [
    "from kneed import KneeLocator\n",
    "k= KneeLocator(k_range, inertia, curve='convex', direction='decreasing')"
   ]
  },
  {
   "cell_type": "code",
   "execution_count": 15,
   "id": "85584ffe",
   "metadata": {},
   "outputs": [
    {
     "data": {
      "text/plain": [
       "8"
      ]
     },
     "execution_count": 15,
     "metadata": {},
     "output_type": "execute_result"
    }
   ],
   "source": [
    "k.elbow"
   ]
  },
  {
   "cell_type": "markdown",
   "id": "073c3115",
   "metadata": {},
   "source": [
    "## hairarical"
   ]
  },
  {
   "cell_type": "code",
   "execution_count": 16,
   "id": "a6490b9e",
   "metadata": {},
   "outputs": [],
   "source": [
    "steps = list()\n",
    "steps.append(('col_trans',col_trasformer ))\n",
    "steps.append((\"Scaler\" , RobustScaler()))\n",
    "pipeline = Pipeline(steps = steps)"
   ]
  },
  {
   "cell_type": "code",
   "execution_count": 17,
   "id": "78be5b7d",
   "metadata": {},
   "outputs": [],
   "source": [
    "df_modi=pipeline.fit_transform(df)"
   ]
  },
  {
   "cell_type": "code",
   "execution_count": 82,
   "id": "5984972e",
   "metadata": {},
   "outputs": [
    {
     "data": {
      "text/plain": [
       "(31566, 32)"
      ]
     },
     "execution_count": 82,
     "metadata": {},
     "output_type": "execute_result"
    }
   ],
   "source": [
    "df_modi.shape"
   ]
  },
  {
   "cell_type": "markdown",
   "id": "90bd9d4c",
   "metadata": {},
   "source": [
    "### dendogram"
   ]
  },
  {
   "cell_type": "code",
   "execution_count": 18,
   "id": "09d23f1d",
   "metadata": {},
   "outputs": [
    {
     "data": {
      "image/png": "[encoded data removed]",
      "text/plain": [
       "<Figure size 720x504 with 1 Axes>"
      ]
     },
     "metadata": {
      "needs_background": "light"
     },
     "output_type": "display_data"
    }
   ],
   "source": [
    "import scipy.cluster.hierarchy as sch\n",
    "plt.figure(figsize=(10,7))\n",
    "dend = sch.dendrogram(sch.linkage(df_modi , method=\"ward\"))"
   ]
  },
  {
   "cell_type": "code",
   "execution_count": 19,
   "id": "9dc76e56",
   "metadata": {},
   "outputs": [],
   "source": [
    "silhoute = list()\n",
    "cluster_range = range(2,6)\n",
    "for c in cluster_range:\n",
    "    steps = list()\n",
    "    steps.append(('col_trans',col_trasformer ))\n",
    "    steps.append((\"Scaler\" , RobustScaler()))\n",
    "    steps.append((\"PCA\",PCA(0.95)))\n",
    "    steps.append((\"Model\" , AgglomerativeClustering(n_clusters=c , linkage=\"ward\")))\n",
    "    pipeline = Pipeline(steps = steps)\n",
    "    pipeline.fit(df)\n",
    "    silhoute.append(silhouette_score(df_modi ,pipeline[\"Model\"].labels_ ))"
   ]
  },
  {
   "cell_type": "code",
   "execution_count": 20,
   "id": "3e55bd0c",
   "metadata": {},
   "outputs": [
    {
     "data": {
      "text/plain": [
       "<AxesSubplot:>"
      ]
     },
     "execution_count": 20,
     "metadata": {},
     "output_type": "execute_result"
    },
    {
     "data": {
      "image/png": "[encoded data removed]",
      "text/plain": [
       "<Figure size 432x288 with 1 Axes>"
      ]
     },
     "metadata": {
      "needs_background": "light"
     },
     "output_type": "display_data"
    }
   ],
   "source": [
    "sns.lineplot(x= cluster_range , y= silhoute)"
   ]
  },
  {
   "cell_type": "code",
   "execution_count": 21,
   "id": "0805e93e",
   "metadata": {},
   "outputs": [],
   "source": [
    "#for n_clusters=4"
   ]
  },
  {
   "cell_type": "code",
   "execution_count": 22,
   "id": "526a8e7a",
   "metadata": {},
   "outputs": [],
   "source": [
    "steps = list()\n",
    "steps.append(('col_trans',col_trasformer ))\n",
    "steps.append((\"Scaler\" , RobustScaler()))\n",
    "steps.append((\"PCA\",PCA(0.95)))\n",
    "steps.append((\"Model\" , AgglomerativeClustering(n_clusters=4 , linkage=\"ward\")))\n",
    "pipeline = Pipeline(steps = steps)"
   ]
  },
  {
   "cell_type": "code",
   "execution_count": 140,
   "id": "06f644c4",
   "metadata": {},
   "outputs": [],
   "source": [
    "df[\"Cluster\"] = pipeline.fit_predict(df)"
   ]
  },
  {
   "cell_type": "code",
   "execution_count": 141,
   "id": "19a5d25f",
   "metadata": {},
   "outputs": [
    {
     "data": {
      "text/plain": [
       "1    24424\n",
       "2     5096\n",
       "0     1186\n",
       "3      860\n",
       "Name: Cluster, dtype: int64"
      ]
     },
     "execution_count": 141,
     "metadata": {},
     "output_type": "execute_result"
    }
   ],
   "source": [
    "df['Cluster'].value_counts()"
   ]
  },
  {
   "cell_type": "code",
   "execution_count": 25,
   "id": "90c7b546",
   "metadata": {},
   "outputs": [],
   "source": [
    "transformed_df = pipeline[\"PCA\"].fit_transform(df_modi)"
   ]
  },
  {
   "cell_type": "code",
   "execution_count": 26,
   "id": "8b4102a7",
   "metadata": {},
   "outputs": [
    {
     "data": {
      "text/plain": [
       "(31566, 17)"
      ]
     },
     "execution_count": 26,
     "metadata": {},
     "output_type": "execute_result"
    }
   ],
   "source": [
    "transformed_df.shape"
   ]
  },
  {
   "cell_type": "code",
   "execution_count": 142,
   "id": "3de3cccc",
   "metadata": {},
   "outputs": [
    {
     "data": {
      "text/html": [
       "<div>\n",
       "<style scoped>\n",
       "    .dataframe tbody tr th:only-of-type {\n",
       "        vertical-align: middle;\n",
       "    }\n",
       "\n",
       "    .dataframe tbody tr th {\n",
       "        vertical-align: top;\n",
       "    }\n",
       "\n",
       "    .dataframe thead th {\n",
       "        text-align: right;\n",
       "    }\n",
       "</style>\n",
       "<table border=\"1\" class=\"dataframe\">\n",
       "  <thead>\n",
       "    <tr style=\"text-align: right;\">\n",
       "      <th></th>\n",
       "      <th>customer_age</th>\n",
       "      <th>job_type</th>\n",
       "      <th>marital</th>\n",
       "      <th>education</th>\n",
       "      <th>default</th>\n",
       "      <th>balance</th>\n",
       "      <th>housing_loan</th>\n",
       "      <th>personal_loan</th>\n",
       "      <th>communication_type</th>\n",
       "      <th>month</th>\n",
       "      <th>num_contacts_in_campaign</th>\n",
       "      <th>num_contacts_prev_campaign</th>\n",
       "      <th>prev_campaign_outcome</th>\n",
       "      <th>term_deposit_subscribed</th>\n",
       "      <th>call_dura_in_min</th>\n",
       "      <th>day_month_binned</th>\n",
       "      <th>new_client_contact_this_campaign</th>\n",
       "      <th>Cluster</th>\n",
       "    </tr>\n",
       "  </thead>\n",
       "  <tbody>\n",
       "    <tr>\n",
       "      <th>0</th>\n",
       "      <td>28.0</td>\n",
       "      <td>management</td>\n",
       "      <td>single</td>\n",
       "      <td>tertiary</td>\n",
       "      <td>no</td>\n",
       "      <td>285.0</td>\n",
       "      <td>yes</td>\n",
       "      <td>no</td>\n",
       "      <td>unknown</td>\n",
       "      <td>jun</td>\n",
       "      <td>4.0</td>\n",
       "      <td>0</td>\n",
       "      <td>unknown</td>\n",
       "      <td>0</td>\n",
       "      <td>5.050000</td>\n",
       "      <td>&gt;20</td>\n",
       "      <td>1</td>\n",
       "      <td>1</td>\n",
       "    </tr>\n",
       "    <tr>\n",
       "      <th>1</th>\n",
       "      <td>34.0</td>\n",
       "      <td>blue-collar</td>\n",
       "      <td>married</td>\n",
       "      <td>secondary</td>\n",
       "      <td>no</td>\n",
       "      <td>934.0</td>\n",
       "      <td>no</td>\n",
       "      <td>yes</td>\n",
       "      <td>cellular</td>\n",
       "      <td>nov</td>\n",
       "      <td>2.0</td>\n",
       "      <td>1</td>\n",
       "      <td>other</td>\n",
       "      <td>0</td>\n",
       "      <td>2.383333</td>\n",
       "      <td>10:20</td>\n",
       "      <td>0</td>\n",
       "      <td>2</td>\n",
       "    </tr>\n",
       "    <tr>\n",
       "      <th>2</th>\n",
       "      <td>46.0</td>\n",
       "      <td>technician</td>\n",
       "      <td>married</td>\n",
       "      <td>secondary</td>\n",
       "      <td>no</td>\n",
       "      <td>656.0</td>\n",
       "      <td>no</td>\n",
       "      <td>no</td>\n",
       "      <td>cellular</td>\n",
       "      <td>feb</td>\n",
       "      <td>4.0</td>\n",
       "      <td>0</td>\n",
       "      <td>unknown</td>\n",
       "      <td>0</td>\n",
       "      <td>1.683333</td>\n",
       "      <td>&lt;11</td>\n",
       "      <td>1</td>\n",
       "      <td>1</td>\n",
       "    </tr>\n",
       "    <tr>\n",
       "      <th>3</th>\n",
       "      <td>34.0</td>\n",
       "      <td>services</td>\n",
       "      <td>single</td>\n",
       "      <td>secondary</td>\n",
       "      <td>no</td>\n",
       "      <td>2.0</td>\n",
       "      <td>yes</td>\n",
       "      <td>no</td>\n",
       "      <td>unknown</td>\n",
       "      <td>may</td>\n",
       "      <td>3.0</td>\n",
       "      <td>0</td>\n",
       "      <td>unknown</td>\n",
       "      <td>0</td>\n",
       "      <td>2.116667</td>\n",
       "      <td>10:20</td>\n",
       "      <td>1</td>\n",
       "      <td>1</td>\n",
       "    </tr>\n",
       "    <tr>\n",
       "      <th>4</th>\n",
       "      <td>41.0</td>\n",
       "      <td>blue-collar</td>\n",
       "      <td>married</td>\n",
       "      <td>primary</td>\n",
       "      <td>no</td>\n",
       "      <td>1352.0</td>\n",
       "      <td>yes</td>\n",
       "      <td>no</td>\n",
       "      <td>cellular</td>\n",
       "      <td>may</td>\n",
       "      <td>2.0</td>\n",
       "      <td>0</td>\n",
       "      <td>unknown</td>\n",
       "      <td>0</td>\n",
       "      <td>0.816667</td>\n",
       "      <td>10:20</td>\n",
       "      <td>1</td>\n",
       "      <td>1</td>\n",
       "    </tr>\n",
       "    <tr>\n",
       "      <th>...</th>\n",
       "      <td>...</td>\n",
       "      <td>...</td>\n",
       "      <td>...</td>\n",
       "      <td>...</td>\n",
       "      <td>...</td>\n",
       "      <td>...</td>\n",
       "      <td>...</td>\n",
       "      <td>...</td>\n",
       "      <td>...</td>\n",
       "      <td>...</td>\n",
       "      <td>...</td>\n",
       "      <td>...</td>\n",
       "      <td>...</td>\n",
       "      <td>...</td>\n",
       "      <td>...</td>\n",
       "      <td>...</td>\n",
       "      <td>...</td>\n",
       "      <td>...</td>\n",
       "    </tr>\n",
       "    <tr>\n",
       "      <th>31561</th>\n",
       "      <td>58.0</td>\n",
       "      <td>admin.</td>\n",
       "      <td>married</td>\n",
       "      <td>secondary</td>\n",
       "      <td>no</td>\n",
       "      <td>567.0</td>\n",
       "      <td>yes</td>\n",
       "      <td>no</td>\n",
       "      <td>cellular</td>\n",
       "      <td>feb</td>\n",
       "      <td>2.0</td>\n",
       "      <td>3</td>\n",
       "      <td>other</td>\n",
       "      <td>0</td>\n",
       "      <td>1.650000</td>\n",
       "      <td>&lt;11</td>\n",
       "      <td>0</td>\n",
       "      <td>2</td>\n",
       "    </tr>\n",
       "    <tr>\n",
       "      <th>31562</th>\n",
       "      <td>51.0</td>\n",
       "      <td>management</td>\n",
       "      <td>married</td>\n",
       "      <td>tertiary</td>\n",
       "      <td>no</td>\n",
       "      <td>1072.0</td>\n",
       "      <td>no</td>\n",
       "      <td>no</td>\n",
       "      <td>unknown</td>\n",
       "      <td>jun</td>\n",
       "      <td>7.0</td>\n",
       "      <td>0</td>\n",
       "      <td>unknown</td>\n",
       "      <td>0</td>\n",
       "      <td>0.516667</td>\n",
       "      <td>10:20</td>\n",
       "      <td>1</td>\n",
       "      <td>1</td>\n",
       "    </tr>\n",
       "    <tr>\n",
       "      <th>31563</th>\n",
       "      <td>41.0</td>\n",
       "      <td>unemployed</td>\n",
       "      <td>married</td>\n",
       "      <td>primary</td>\n",
       "      <td>no</td>\n",
       "      <td>242.0</td>\n",
       "      <td>yes</td>\n",
       "      <td>no</td>\n",
       "      <td>unknown</td>\n",
       "      <td>may</td>\n",
       "      <td>2.0</td>\n",
       "      <td>0</td>\n",
       "      <td>unknown</td>\n",
       "      <td>0</td>\n",
       "      <td>1.483333</td>\n",
       "      <td>&gt;20</td>\n",
       "      <td>1</td>\n",
       "      <td>1</td>\n",
       "    </tr>\n",
       "    <tr>\n",
       "      <th>31564</th>\n",
       "      <td>48.0</td>\n",
       "      <td>services</td>\n",
       "      <td>married</td>\n",
       "      <td>secondary</td>\n",
       "      <td>no</td>\n",
       "      <td>2699.0</td>\n",
       "      <td>no</td>\n",
       "      <td>no</td>\n",
       "      <td>cellular</td>\n",
       "      <td>aug</td>\n",
       "      <td>6.0</td>\n",
       "      <td>0</td>\n",
       "      <td>unknown</td>\n",
       "      <td>0</td>\n",
       "      <td>3.600000</td>\n",
       "      <td>10:20</td>\n",
       "      <td>1</td>\n",
       "      <td>1</td>\n",
       "    </tr>\n",
       "    <tr>\n",
       "      <th>31565</th>\n",
       "      <td>38.0</td>\n",
       "      <td>technician</td>\n",
       "      <td>single</td>\n",
       "      <td>tertiary</td>\n",
       "      <td>no</td>\n",
       "      <td>1045.0</td>\n",
       "      <td>no</td>\n",
       "      <td>no</td>\n",
       "      <td>cellular</td>\n",
       "      <td>aug</td>\n",
       "      <td>10.0</td>\n",
       "      <td>0</td>\n",
       "      <td>unknown</td>\n",
       "      <td>0</td>\n",
       "      <td>3.050000</td>\n",
       "      <td>10:20</td>\n",
       "      <td>1</td>\n",
       "      <td>3</td>\n",
       "    </tr>\n",
       "  </tbody>\n",
       "</table>\n",
       "<p>31566 rows × 18 columns</p>\n",
       "</div>"
      ],
      "text/plain": [
       "       customer_age     job_type  marital  education default  balance  \\\n",
       "0              28.0   management   single   tertiary      no    285.0   \n",
       "1              34.0  blue-collar  married  secondary      no    934.0   \n",
       "2              46.0   technician  married  secondary      no    656.0   \n",
       "3              34.0     services   single  secondary      no      2.0   \n",
       "4              41.0  blue-collar  married    primary      no   1352.0   \n",
       "...             ...          ...      ...        ...     ...      ...   \n",
       "31561          58.0       admin.  married  secondary      no    567.0   \n",
       "31562          51.0   management  married   tertiary      no   1072.0   \n",
       "31563          41.0   unemployed  married    primary      no    242.0   \n",
       "31564          48.0     services  married  secondary      no   2699.0   \n",
       "31565          38.0   technician   single   tertiary      no   1045.0   \n",
       "\n",
       "      housing_loan personal_loan communication_type month  \\\n",
       "0              yes            no            unknown   jun   \n",
       "1               no           yes           cellular   nov   \n",
       "2               no            no           cellular   feb   \n",
       "3              yes            no            unknown   may   \n",
       "4              yes            no           cellular   may   \n",
       "...            ...           ...                ...   ...   \n",
       "31561          yes            no           cellular   feb   \n",
       "31562           no            no            unknown   jun   \n",
       "31563          yes            no            unknown   may   \n",
       "31564           no            no           cellular   aug   \n",
       "31565           no            no           cellular   aug   \n",
       "\n",
       "       num_contacts_in_campaign  num_contacts_prev_campaign  \\\n",
       "0                           4.0                           0   \n",
       "1                           2.0                           1   \n",
       "2                           4.0                           0   \n",
       "3                           3.0                           0   \n",
       "4                           2.0                           0   \n",
       "...                         ...                         ...   \n",
       "31561                       2.0                           3   \n",
       "31562                       7.0                           0   \n",
       "31563                       2.0                           0   \n",
       "31564                       6.0                           0   \n",
       "31565                      10.0                           0   \n",
       "\n",
       "      prev_campaign_outcome  term_deposit_subscribed  call_dura_in_min  \\\n",
       "0                   unknown                        0          5.050000   \n",
       "1                     other                        0          2.383333   \n",
       "2                   unknown                        0          1.683333   \n",
       "3                   unknown                        0          2.116667   \n",
       "4                   unknown                        0          0.816667   \n",
       "...                     ...                      ...               ...   \n",
       "31561                 other                        0          1.650000   \n",
       "31562               unknown                        0          0.516667   \n",
       "31563               unknown                        0          1.483333   \n",
       "31564               unknown                        0          3.600000   \n",
       "31565               unknown                        0          3.050000   \n",
       "\n",
       "      day_month_binned  new_client_contact_this_campaign  Cluster  \n",
       "0                  >20                                 1        1  \n",
       "1                10:20                                 0        2  \n",
       "2                  <11                                 1        1  \n",
       "3                10:20                                 1        1  \n",
       "4                10:20                                 1        1  \n",
       "...                ...                               ...      ...  \n",
       "31561              <11                                 0        2  \n",
       "31562            10:20                                 1        1  \n",
       "31563              >20                                 1        1  \n",
       "31564            10:20                                 1        1  \n",
       "31565            10:20                                 1        3  \n",
       "\n",
       "[31566 rows x 18 columns]"
      ]
     },
     "execution_count": 142,
     "metadata": {},
     "output_type": "execute_result"
    }
   ],
   "source": [
    "df"
   ]
  },
  {
   "cell_type": "markdown",
   "id": "259e24d4",
   "metadata": {},
   "source": [
    "#  Market Segments"
   ]
  },
  {
   "cell_type": "markdown",
   "id": "3b19ae64",
   "metadata": {},
   "source": [
    "### cluster 0"
   ]
  },
  {
   "cell_type": "code",
   "execution_count": 143,
   "id": "98c38d5c",
   "metadata": {},
   "outputs": [],
   "source": [
    "cluster_0=df[df['Cluster']==0]"
   ]
  },
  {
   "cell_type": "code",
   "execution_count": 144,
   "id": "93e7e6fc",
   "metadata": {},
   "outputs": [
    {
     "data": {
      "text/html": [
       "<div>\n",
       "<style scoped>\n",
       "    .dataframe tbody tr th:only-of-type {\n",
       "        vertical-align: middle;\n",
       "    }\n",
       "\n",
       "    .dataframe tbody tr th {\n",
       "        vertical-align: top;\n",
       "    }\n",
       "\n",
       "    .dataframe thead th {\n",
       "        text-align: right;\n",
       "    }\n",
       "</style>\n",
       "<table border=\"1\" class=\"dataframe\">\n",
       "  <thead>\n",
       "    <tr style=\"text-align: right;\">\n",
       "      <th></th>\n",
       "      <th>customer_age</th>\n",
       "      <th>balance</th>\n",
       "      <th>num_contacts_in_campaign</th>\n",
       "      <th>num_contacts_prev_campaign</th>\n",
       "      <th>term_deposit_subscribed</th>\n",
       "      <th>call_dura_in_min</th>\n",
       "      <th>new_client_contact_this_campaign</th>\n",
       "      <th>Cluster</th>\n",
       "    </tr>\n",
       "  </thead>\n",
       "  <tbody>\n",
       "    <tr>\n",
       "      <th>count</th>\n",
       "      <td>1165.000000</td>\n",
       "      <td>1183.000000</td>\n",
       "      <td>1178.000000</td>\n",
       "      <td>1186.000000</td>\n",
       "      <td>1186.000000</td>\n",
       "      <td>1168.000000</td>\n",
       "      <td>1186.000000</td>\n",
       "      <td>1186.0</td>\n",
       "    </tr>\n",
       "    <tr>\n",
       "      <th>mean</th>\n",
       "      <td>43.787983</td>\n",
       "      <td>12373.438715</td>\n",
       "      <td>2.360781</td>\n",
       "      <td>0.450253</td>\n",
       "      <td>0.175379</td>\n",
       "      <td>5.375014</td>\n",
       "      <td>0.800169</td>\n",
       "      <td>0.0</td>\n",
       "    </tr>\n",
       "    <tr>\n",
       "      <th>std</th>\n",
       "      <td>11.932680</td>\n",
       "      <td>8695.167753</td>\n",
       "      <td>2.008408</td>\n",
       "      <td>1.088321</td>\n",
       "      <td>0.380452</td>\n",
       "      <td>5.452761</td>\n",
       "      <td>0.400042</td>\n",
       "      <td>0.0</td>\n",
       "    </tr>\n",
       "    <tr>\n",
       "      <th>min</th>\n",
       "      <td>20.000000</td>\n",
       "      <td>1314.000000</td>\n",
       "      <td>1.000000</td>\n",
       "      <td>0.000000</td>\n",
       "      <td>0.000000</td>\n",
       "      <td>0.000000</td>\n",
       "      <td>0.000000</td>\n",
       "      <td>0.0</td>\n",
       "    </tr>\n",
       "    <tr>\n",
       "      <th>25%</th>\n",
       "      <td>34.000000</td>\n",
       "      <td>7886.500000</td>\n",
       "      <td>1.000000</td>\n",
       "      <td>0.000000</td>\n",
       "      <td>0.000000</td>\n",
       "      <td>1.900000</td>\n",
       "      <td>1.000000</td>\n",
       "      <td>0.0</td>\n",
       "    </tr>\n",
       "    <tr>\n",
       "      <th>50%</th>\n",
       "      <td>42.000000</td>\n",
       "      <td>9795.000000</td>\n",
       "      <td>2.000000</td>\n",
       "      <td>0.000000</td>\n",
       "      <td>0.000000</td>\n",
       "      <td>3.266667</td>\n",
       "      <td>1.000000</td>\n",
       "      <td>0.0</td>\n",
       "    </tr>\n",
       "    <tr>\n",
       "      <th>75%</th>\n",
       "      <td>53.000000</td>\n",
       "      <td>13566.500000</td>\n",
       "      <td>3.000000</td>\n",
       "      <td>0.000000</td>\n",
       "      <td>0.000000</td>\n",
       "      <td>6.658333</td>\n",
       "      <td>1.000000</td>\n",
       "      <td>0.0</td>\n",
       "    </tr>\n",
       "    <tr>\n",
       "      <th>max</th>\n",
       "      <td>86.000000</td>\n",
       "      <td>102128.000000</td>\n",
       "      <td>20.000000</td>\n",
       "      <td>7.000000</td>\n",
       "      <td>1.000000</td>\n",
       "      <td>29.766667</td>\n",
       "      <td>1.000000</td>\n",
       "      <td>0.0</td>\n",
       "    </tr>\n",
       "  </tbody>\n",
       "</table>\n",
       "</div>"
      ],
      "text/plain": [
       "       customer_age        balance  num_contacts_in_campaign  \\\n",
       "count   1165.000000    1183.000000               1178.000000   \n",
       "mean      43.787983   12373.438715                  2.360781   \n",
       "std       11.932680    8695.167753                  2.008408   \n",
       "min       20.000000    1314.000000                  1.000000   \n",
       "25%       34.000000    7886.500000                  1.000000   \n",
       "50%       42.000000    9795.000000                  2.000000   \n",
       "75%       53.000000   13566.500000                  3.000000   \n",
       "max       86.000000  102128.000000                 20.000000   \n",
       "\n",
       "       num_contacts_prev_campaign  term_deposit_subscribed  call_dura_in_min  \\\n",
       "count                 1186.000000              1186.000000       1168.000000   \n",
       "mean                     0.450253                 0.175379          5.375014   \n",
       "std                      1.088321                 0.380452          5.452761   \n",
       "min                      0.000000                 0.000000          0.000000   \n",
       "25%                      0.000000                 0.000000          1.900000   \n",
       "50%                      0.000000                 0.000000          3.266667   \n",
       "75%                      0.000000                 0.000000          6.658333   \n",
       "max                      7.000000                 1.000000         29.766667   \n",
       "\n",
       "       new_client_contact_this_campaign  Cluster  \n",
       "count                       1186.000000   1186.0  \n",
       "mean                           0.800169      0.0  \n",
       "std                            0.400042      0.0  \n",
       "min                            0.000000      0.0  \n",
       "25%                            1.000000      0.0  \n",
       "50%                            1.000000      0.0  \n",
       "75%                            1.000000      0.0  \n",
       "max                            1.000000      0.0  "
      ]
     },
     "execution_count": 144,
     "metadata": {},
     "output_type": "execute_result"
    }
   ],
   "source": [
    "cluster_0.describe()    #upper low"
   ]
  },
  {
   "cell_type": "code",
   "execution_count": 145,
   "id": "20854eaf",
   "metadata": {},
   "outputs": [
    {
     "data": {
      "text/plain": [
       "0    978\n",
       "1    208\n",
       "Name: term_deposit_subscribed, dtype: int64"
      ]
     },
     "execution_count": 145,
     "metadata": {},
     "output_type": "execute_result"
    }
   ],
   "source": [
    "cluster_0.term_deposit_subscribed.value_counts()"
   ]
  },
  {
   "cell_type": "code",
   "execution_count": 146,
   "id": "6da5e87e",
   "metadata": {},
   "outputs": [
    {
     "data": {
      "text/plain": [
       "customer_age                     43.787983\n",
       "balance                       12373.438715\n",
       "call_dura_in_min                  5.375014\n",
       "num_contacts_in_campaign          2.360781\n",
       "num_contacts_prev_campaign        0.450253\n",
       "dtype: float64"
      ]
     },
     "execution_count": 146,
     "metadata": {},
     "output_type": "execute_result"
    }
   ],
   "source": [
    "cluster_0[['customer_age','balance','call_dura_in_min','num_contacts_in_campaign','num_contacts_prev_campaign']].apply(np.mean).T"
   ]
  },
  {
   "cell_type": "markdown",
   "id": "4fb71386",
   "metadata": {},
   "source": [
    "## cluster 1"
   ]
  },
  {
   "cell_type": "code",
   "execution_count": 147,
   "id": "ca1d0e97",
   "metadata": {},
   "outputs": [],
   "source": [
    "cluster_1=df[df['Cluster']==1]"
   ]
  },
  {
   "cell_type": "code",
   "execution_count": 148,
   "id": "106cfcde",
   "metadata": {},
   "outputs": [
    {
     "data": {
      "text/html": [
       "<div>\n",
       "<style scoped>\n",
       "    .dataframe tbody tr th:only-of-type {\n",
       "        vertical-align: middle;\n",
       "    }\n",
       "\n",
       "    .dataframe tbody tr th {\n",
       "        vertical-align: top;\n",
       "    }\n",
       "\n",
       "    .dataframe thead th {\n",
       "        text-align: right;\n",
       "    }\n",
       "</style>\n",
       "<table border=\"1\" class=\"dataframe\">\n",
       "  <thead>\n",
       "    <tr style=\"text-align: right;\">\n",
       "      <th></th>\n",
       "      <th>customer_age</th>\n",
       "      <th>balance</th>\n",
       "      <th>num_contacts_in_campaign</th>\n",
       "      <th>num_contacts_prev_campaign</th>\n",
       "      <th>term_deposit_subscribed</th>\n",
       "      <th>call_dura_in_min</th>\n",
       "      <th>new_client_contact_this_campaign</th>\n",
       "      <th>Cluster</th>\n",
       "    </tr>\n",
       "  </thead>\n",
       "  <tbody>\n",
       "    <tr>\n",
       "      <th>count</th>\n",
       "      <td>23940.000000</td>\n",
       "      <td>24110.000000</td>\n",
       "      <td>24343.000000</td>\n",
       "      <td>24424.000000</td>\n",
       "      <td>24424.000000</td>\n",
       "      <td>24196.000000</td>\n",
       "      <td>24424.000000</td>\n",
       "      <td>24424.0</td>\n",
       "    </tr>\n",
       "    <tr>\n",
       "      <th>mean</th>\n",
       "      <td>40.524353</td>\n",
       "      <td>904.197345</td>\n",
       "      <td>2.464487</td>\n",
       "      <td>0.024198</td>\n",
       "      <td>0.087005</td>\n",
       "      <td>4.350618</td>\n",
       "      <td>0.983582</td>\n",
       "      <td>1.0</td>\n",
       "    </tr>\n",
       "    <tr>\n",
       "      <th>std</th>\n",
       "      <td>10.726590</td>\n",
       "      <td>1363.362847</td>\n",
       "      <td>1.846361</td>\n",
       "      <td>0.206624</td>\n",
       "      <td>0.281848</td>\n",
       "      <td>4.394101</td>\n",
       "      <td>0.127080</td>\n",
       "      <td>0.0</td>\n",
       "    </tr>\n",
       "    <tr>\n",
       "      <th>min</th>\n",
       "      <td>18.000000</td>\n",
       "      <td>-8020.000000</td>\n",
       "      <td>1.000000</td>\n",
       "      <td>0.000000</td>\n",
       "      <td>0.000000</td>\n",
       "      <td>0.000000</td>\n",
       "      <td>0.000000</td>\n",
       "      <td>1.0</td>\n",
       "    </tr>\n",
       "    <tr>\n",
       "      <th>25%</th>\n",
       "      <td>32.000000</td>\n",
       "      <td>49.000000</td>\n",
       "      <td>1.000000</td>\n",
       "      <td>0.000000</td>\n",
       "      <td>0.000000</td>\n",
       "      <td>1.733333</td>\n",
       "      <td>1.000000</td>\n",
       "      <td>1.0</td>\n",
       "    </tr>\n",
       "    <tr>\n",
       "      <th>50%</th>\n",
       "      <td>39.000000</td>\n",
       "      <td>390.000000</td>\n",
       "      <td>2.000000</td>\n",
       "      <td>0.000000</td>\n",
       "      <td>0.000000</td>\n",
       "      <td>3.000000</td>\n",
       "      <td>1.000000</td>\n",
       "      <td>1.0</td>\n",
       "    </tr>\n",
       "    <tr>\n",
       "      <th>75%</th>\n",
       "      <td>48.000000</td>\n",
       "      <td>1206.000000</td>\n",
       "      <td>3.000000</td>\n",
       "      <td>0.000000</td>\n",
       "      <td>0.000000</td>\n",
       "      <td>5.316667</td>\n",
       "      <td>1.000000</td>\n",
       "      <td>1.0</td>\n",
       "    </tr>\n",
       "    <tr>\n",
       "      <th>max</th>\n",
       "      <td>95.000000</td>\n",
       "      <td>8727.000000</td>\n",
       "      <td>15.000000</td>\n",
       "      <td>4.000000</td>\n",
       "      <td>1.000000</td>\n",
       "      <td>62.883333</td>\n",
       "      <td>1.000000</td>\n",
       "      <td>1.0</td>\n",
       "    </tr>\n",
       "  </tbody>\n",
       "</table>\n",
       "</div>"
      ],
      "text/plain": [
       "       customer_age       balance  num_contacts_in_campaign  \\\n",
       "count  23940.000000  24110.000000              24343.000000   \n",
       "mean      40.524353    904.197345                  2.464487   \n",
       "std       10.726590   1363.362847                  1.846361   \n",
       "min       18.000000  -8020.000000                  1.000000   \n",
       "25%       32.000000     49.000000                  1.000000   \n",
       "50%       39.000000    390.000000                  2.000000   \n",
       "75%       48.000000   1206.000000                  3.000000   \n",
       "max       95.000000   8727.000000                 15.000000   \n",
       "\n",
       "       num_contacts_prev_campaign  term_deposit_subscribed  call_dura_in_min  \\\n",
       "count                24424.000000             24424.000000      24196.000000   \n",
       "mean                     0.024198                 0.087005          4.350618   \n",
       "std                      0.206624                 0.281848          4.394101   \n",
       "min                      0.000000                 0.000000          0.000000   \n",
       "25%                      0.000000                 0.000000          1.733333   \n",
       "50%                      0.000000                 0.000000          3.000000   \n",
       "75%                      0.000000                 0.000000          5.316667   \n",
       "max                      4.000000                 1.000000         62.883333   \n",
       "\n",
       "       new_client_contact_this_campaign  Cluster  \n",
       "count                      24424.000000  24424.0  \n",
       "mean                           0.983582      1.0  \n",
       "std                            0.127080      0.0  \n",
       "min                            0.000000      1.0  \n",
       "25%                            1.000000      1.0  \n",
       "50%                            1.000000      1.0  \n",
       "75%                            1.000000      1.0  \n",
       "max                            1.000000      1.0  "
      ]
     },
     "execution_count": 148,
     "metadata": {},
     "output_type": "execute_result"
    }
   ],
   "source": [
    "cluster_1.describe()  #mid"
   ]
  },
  {
   "cell_type": "code",
   "execution_count": 149,
   "id": "94fb7fee",
   "metadata": {},
   "outputs": [
    {
     "data": {
      "text/plain": [
       "0    22299\n",
       "1     2125\n",
       "Name: term_deposit_subscribed, dtype: int64"
      ]
     },
     "execution_count": 149,
     "metadata": {},
     "output_type": "execute_result"
    }
   ],
   "source": [
    "cluster_1.term_deposit_subscribed.value_counts()"
   ]
  },
  {
   "cell_type": "code",
   "execution_count": 150,
   "id": "f6bee657",
   "metadata": {},
   "outputs": [
    {
     "data": {
      "text/plain": [
       "customer_age                   40.524353\n",
       "balance                       904.197345\n",
       "call_dura_in_min                4.350618\n",
       "num_contacts_in_campaign        2.464487\n",
       "num_contacts_prev_campaign      0.024198\n",
       "dtype: float64"
      ]
     },
     "execution_count": 150,
     "metadata": {},
     "output_type": "execute_result"
    }
   ],
   "source": [
    "cluster_1[['customer_age','balance','call_dura_in_min','num_contacts_in_campaign','num_contacts_prev_campaign']].apply(np.mean).T"
   ]
  },
  {
   "cell_type": "markdown",
   "id": "61210928",
   "metadata": {},
   "source": [
    "## cluster 2"
   ]
  },
  {
   "cell_type": "code",
   "execution_count": 151,
   "id": "8047db4c",
   "metadata": {},
   "outputs": [],
   "source": [
    "cluster_2=df[df['Cluster']==2]"
   ]
  },
  {
   "cell_type": "code",
   "execution_count": 152,
   "id": "f4de2d5c",
   "metadata": {},
   "outputs": [
    {
     "data": {
      "text/html": [
       "<div>\n",
       "<style scoped>\n",
       "    .dataframe tbody tr th:only-of-type {\n",
       "        vertical-align: middle;\n",
       "    }\n",
       "\n",
       "    .dataframe tbody tr th {\n",
       "        vertical-align: top;\n",
       "    }\n",
       "\n",
       "    .dataframe thead th {\n",
       "        text-align: right;\n",
       "    }\n",
       "</style>\n",
       "<table border=\"1\" class=\"dataframe\">\n",
       "  <thead>\n",
       "    <tr style=\"text-align: right;\">\n",
       "      <th></th>\n",
       "      <th>customer_age</th>\n",
       "      <th>balance</th>\n",
       "      <th>num_contacts_in_campaign</th>\n",
       "      <th>num_contacts_prev_campaign</th>\n",
       "      <th>term_deposit_subscribed</th>\n",
       "      <th>call_dura_in_min</th>\n",
       "      <th>new_client_contact_this_campaign</th>\n",
       "      <th>Cluster</th>\n",
       "    </tr>\n",
       "  </thead>\n",
       "  <tbody>\n",
       "    <tr>\n",
       "      <th>count</th>\n",
       "      <td>5003.000000</td>\n",
       "      <td>5027.000000</td>\n",
       "      <td>5076.000000</td>\n",
       "      <td>5096.000000</td>\n",
       "      <td>5096.000000</td>\n",
       "      <td>5040.000000</td>\n",
       "      <td>5096.0</td>\n",
       "      <td>5096.0</td>\n",
       "    </tr>\n",
       "    <tr>\n",
       "      <th>mean</th>\n",
       "      <td>39.305617</td>\n",
       "      <td>1082.519196</td>\n",
       "      <td>2.019898</td>\n",
       "      <td>3.027080</td>\n",
       "      <td>0.200942</td>\n",
       "      <td>3.910496</td>\n",
       "      <td>0.0</td>\n",
       "      <td>2.0</td>\n",
       "    </tr>\n",
       "    <tr>\n",
       "      <th>std</th>\n",
       "      <td>10.509946</td>\n",
       "      <td>1483.538808</td>\n",
       "      <td>1.487484</td>\n",
       "      <td>2.527426</td>\n",
       "      <td>0.400744</td>\n",
       "      <td>3.013194</td>\n",
       "      <td>0.0</td>\n",
       "      <td>0.0</td>\n",
       "    </tr>\n",
       "    <tr>\n",
       "      <th>min</th>\n",
       "      <td>18.000000</td>\n",
       "      <td>-1880.000000</td>\n",
       "      <td>1.000000</td>\n",
       "      <td>1.000000</td>\n",
       "      <td>0.000000</td>\n",
       "      <td>0.000000</td>\n",
       "      <td>0.0</td>\n",
       "      <td>2.0</td>\n",
       "    </tr>\n",
       "    <tr>\n",
       "      <th>25%</th>\n",
       "      <td>32.000000</td>\n",
       "      <td>144.500000</td>\n",
       "      <td>1.000000</td>\n",
       "      <td>1.000000</td>\n",
       "      <td>0.000000</td>\n",
       "      <td>1.833333</td>\n",
       "      <td>0.0</td>\n",
       "      <td>2.0</td>\n",
       "    </tr>\n",
       "    <tr>\n",
       "      <th>50%</th>\n",
       "      <td>37.000000</td>\n",
       "      <td>520.000000</td>\n",
       "      <td>2.000000</td>\n",
       "      <td>2.000000</td>\n",
       "      <td>0.000000</td>\n",
       "      <td>3.116667</td>\n",
       "      <td>0.0</td>\n",
       "      <td>2.0</td>\n",
       "    </tr>\n",
       "    <tr>\n",
       "      <th>75%</th>\n",
       "      <td>46.000000</td>\n",
       "      <td>1440.000000</td>\n",
       "      <td>2.000000</td>\n",
       "      <td>4.000000</td>\n",
       "      <td>0.000000</td>\n",
       "      <td>5.166667</td>\n",
       "      <td>0.0</td>\n",
       "      <td>2.0</td>\n",
       "    </tr>\n",
       "    <tr>\n",
       "      <th>max</th>\n",
       "      <td>93.000000</td>\n",
       "      <td>13052.000000</td>\n",
       "      <td>16.000000</td>\n",
       "      <td>15.000000</td>\n",
       "      <td>1.000000</td>\n",
       "      <td>24.950000</td>\n",
       "      <td>0.0</td>\n",
       "      <td>2.0</td>\n",
       "    </tr>\n",
       "  </tbody>\n",
       "</table>\n",
       "</div>"
      ],
      "text/plain": [
       "       customer_age       balance  num_contacts_in_campaign  \\\n",
       "count   5003.000000   5027.000000               5076.000000   \n",
       "mean      39.305617   1082.519196                  2.019898   \n",
       "std       10.509946   1483.538808                  1.487484   \n",
       "min       18.000000  -1880.000000                  1.000000   \n",
       "25%       32.000000    144.500000                  1.000000   \n",
       "50%       37.000000    520.000000                  2.000000   \n",
       "75%       46.000000   1440.000000                  2.000000   \n",
       "max       93.000000  13052.000000                 16.000000   \n",
       "\n",
       "       num_contacts_prev_campaign  term_deposit_subscribed  call_dura_in_min  \\\n",
       "count                 5096.000000              5096.000000       5040.000000   \n",
       "mean                     3.027080                 0.200942          3.910496   \n",
       "std                      2.527426                 0.400744          3.013194   \n",
       "min                      1.000000                 0.000000          0.000000   \n",
       "25%                      1.000000                 0.000000          1.833333   \n",
       "50%                      2.000000                 0.000000          3.116667   \n",
       "75%                      4.000000                 0.000000          5.166667   \n",
       "max                     15.000000                 1.000000         24.950000   \n",
       "\n",
       "       new_client_contact_this_campaign  Cluster  \n",
       "count                            5096.0   5096.0  \n",
       "mean                                0.0      2.0  \n",
       "std                                 0.0      0.0  \n",
       "min                                 0.0      2.0  \n",
       "25%                                 0.0      2.0  \n",
       "50%                                 0.0      2.0  \n",
       "75%                                 0.0      2.0  \n",
       "max                                 0.0      2.0  "
      ]
     },
     "execution_count": 152,
     "metadata": {},
     "output_type": "execute_result"
    }
   ],
   "source": [
    "cluster_2.describe()    #high"
   ]
  },
  {
   "cell_type": "code",
   "execution_count": 153,
   "id": "874e7c90",
   "metadata": {},
   "outputs": [
    {
     "data": {
      "text/plain": [
       "0    4072\n",
       "1    1024\n",
       "Name: term_deposit_subscribed, dtype: int64"
      ]
     },
     "execution_count": 153,
     "metadata": {},
     "output_type": "execute_result"
    }
   ],
   "source": [
    "cluster_2.term_deposit_subscribed.value_counts() "
   ]
  },
  {
   "cell_type": "code",
   "execution_count": 154,
   "id": "15f7ffdb",
   "metadata": {},
   "outputs": [
    {
     "data": {
      "text/plain": [
       "customer_age                    39.305617\n",
       "balance                       1082.519196\n",
       "call_dura_in_min                 3.910496\n",
       "num_contacts_in_campaign         2.019898\n",
       "num_contacts_prev_campaign       3.027080\n",
       "dtype: float64"
      ]
     },
     "execution_count": 154,
     "metadata": {},
     "output_type": "execute_result"
    }
   ],
   "source": [
    "cluster_2[['customer_age','balance','call_dura_in_min','num_contacts_in_campaign','num_contacts_prev_campaign']].apply(np.mean).T"
   ]
  },
  {
   "cell_type": "markdown",
   "id": "6e037691",
   "metadata": {},
   "source": [
    "## cluster 3"
   ]
  },
  {
   "cell_type": "code",
   "execution_count": 155,
   "id": "ffb1c1ed",
   "metadata": {},
   "outputs": [],
   "source": [
    "cluster_3=df[df['Cluster']==3]"
   ]
  },
  {
   "cell_type": "code",
   "execution_count": 156,
   "id": "c0000a04",
   "metadata": {},
   "outputs": [
    {
     "data": {
      "text/html": [
       "<div>\n",
       "<style scoped>\n",
       "    .dataframe tbody tr th:only-of-type {\n",
       "        vertical-align: middle;\n",
       "    }\n",
       "\n",
       "    .dataframe tbody tr th {\n",
       "        vertical-align: top;\n",
       "    }\n",
       "\n",
       "    .dataframe thead th {\n",
       "        text-align: right;\n",
       "    }\n",
       "</style>\n",
       "<table border=\"1\" class=\"dataframe\">\n",
       "  <thead>\n",
       "    <tr style=\"text-align: right;\">\n",
       "      <th></th>\n",
       "      <th>customer_age</th>\n",
       "      <th>balance</th>\n",
       "      <th>num_contacts_in_campaign</th>\n",
       "      <th>num_contacts_prev_campaign</th>\n",
       "      <th>term_deposit_subscribed</th>\n",
       "      <th>call_dura_in_min</th>\n",
       "      <th>new_client_contact_this_campaign</th>\n",
       "      <th>Cluster</th>\n",
       "    </tr>\n",
       "  </thead>\n",
       "  <tbody>\n",
       "    <tr>\n",
       "      <th>count</th>\n",
       "      <td>840.000000</td>\n",
       "      <td>848.000000</td>\n",
       "      <td>857.000000</td>\n",
       "      <td>860.000000</td>\n",
       "      <td>860.000000</td>\n",
       "      <td>853.000000</td>\n",
       "      <td>860.000000</td>\n",
       "      <td>860.0</td>\n",
       "    </tr>\n",
       "    <tr>\n",
       "      <th>mean</th>\n",
       "      <td>40.232143</td>\n",
       "      <td>878.528302</td>\n",
       "      <td>16.680280</td>\n",
       "      <td>0.002326</td>\n",
       "      <td>0.031395</td>\n",
       "      <td>2.496639</td>\n",
       "      <td>0.997674</td>\n",
       "      <td>3.0</td>\n",
       "    </tr>\n",
       "    <tr>\n",
       "      <th>std</th>\n",
       "      <td>10.052054</td>\n",
       "      <td>1701.035760</td>\n",
       "      <td>7.099789</td>\n",
       "      <td>0.048196</td>\n",
       "      <td>0.174485</td>\n",
       "      <td>3.551414</td>\n",
       "      <td>0.048196</td>\n",
       "      <td>0.0</td>\n",
       "    </tr>\n",
       "    <tr>\n",
       "      <th>min</th>\n",
       "      <td>21.000000</td>\n",
       "      <td>-1609.000000</td>\n",
       "      <td>7.000000</td>\n",
       "      <td>0.000000</td>\n",
       "      <td>0.000000</td>\n",
       "      <td>0.000000</td>\n",
       "      <td>0.000000</td>\n",
       "      <td>3.0</td>\n",
       "    </tr>\n",
       "    <tr>\n",
       "      <th>25%</th>\n",
       "      <td>32.000000</td>\n",
       "      <td>4.000000</td>\n",
       "      <td>12.000000</td>\n",
       "      <td>0.000000</td>\n",
       "      <td>0.000000</td>\n",
       "      <td>0.433333</td>\n",
       "      <td>1.000000</td>\n",
       "      <td>3.0</td>\n",
       "    </tr>\n",
       "    <tr>\n",
       "      <th>50%</th>\n",
       "      <td>38.000000</td>\n",
       "      <td>252.000000</td>\n",
       "      <td>14.000000</td>\n",
       "      <td>0.000000</td>\n",
       "      <td>0.000000</td>\n",
       "      <td>1.266667</td>\n",
       "      <td>1.000000</td>\n",
       "      <td>3.0</td>\n",
       "    </tr>\n",
       "    <tr>\n",
       "      <th>75%</th>\n",
       "      <td>47.250000</td>\n",
       "      <td>1000.250000</td>\n",
       "      <td>19.000000</td>\n",
       "      <td>0.000000</td>\n",
       "      <td>0.000000</td>\n",
       "      <td>2.900000</td>\n",
       "      <td>1.000000</td>\n",
       "      <td>3.0</td>\n",
       "    </tr>\n",
       "    <tr>\n",
       "      <th>max</th>\n",
       "      <td>97.000000</td>\n",
       "      <td>13491.000000</td>\n",
       "      <td>63.000000</td>\n",
       "      <td>1.000000</td>\n",
       "      <td>1.000000</td>\n",
       "      <td>27.233333</td>\n",
       "      <td>1.000000</td>\n",
       "      <td>3.0</td>\n",
       "    </tr>\n",
       "  </tbody>\n",
       "</table>\n",
       "</div>"
      ],
      "text/plain": [
       "       customer_age       balance  num_contacts_in_campaign  \\\n",
       "count    840.000000    848.000000                857.000000   \n",
       "mean      40.232143    878.528302                 16.680280   \n",
       "std       10.052054   1701.035760                  7.099789   \n",
       "min       21.000000  -1609.000000                  7.000000   \n",
       "25%       32.000000      4.000000                 12.000000   \n",
       "50%       38.000000    252.000000                 14.000000   \n",
       "75%       47.250000   1000.250000                 19.000000   \n",
       "max       97.000000  13491.000000                 63.000000   \n",
       "\n",
       "       num_contacts_prev_campaign  term_deposit_subscribed  call_dura_in_min  \\\n",
       "count                  860.000000               860.000000        853.000000   \n",
       "mean                     0.002326                 0.031395          2.496639   \n",
       "std                      0.048196                 0.174485          3.551414   \n",
       "min                      0.000000                 0.000000          0.000000   \n",
       "25%                      0.000000                 0.000000          0.433333   \n",
       "50%                      0.000000                 0.000000          1.266667   \n",
       "75%                      0.000000                 0.000000          2.900000   \n",
       "max                      1.000000                 1.000000         27.233333   \n",
       "\n",
       "       new_client_contact_this_campaign  Cluster  \n",
       "count                        860.000000    860.0  \n",
       "mean                           0.997674      3.0  \n",
       "std                            0.048196      0.0  \n",
       "min                            0.000000      3.0  \n",
       "25%                            1.000000      3.0  \n",
       "50%                            1.000000      3.0  \n",
       "75%                            1.000000      3.0  \n",
       "max                            1.000000      3.0  "
      ]
     },
     "execution_count": 156,
     "metadata": {},
     "output_type": "execute_result"
    }
   ],
   "source": [
    "cluster_3.describe()   #low"
   ]
  },
  {
   "cell_type": "code",
   "execution_count": 157,
   "id": "379c2e90",
   "metadata": {},
   "outputs": [
    {
     "data": {
      "text/plain": [
       "0    833\n",
       "1     27\n",
       "Name: term_deposit_subscribed, dtype: int64"
      ]
     },
     "execution_count": 157,
     "metadata": {},
     "output_type": "execute_result"
    }
   ],
   "source": [
    "cluster_3.term_deposit_subscribed.value_counts() "
   ]
  },
  {
   "cell_type": "code",
   "execution_count": 158,
   "id": "5fdefda4",
   "metadata": {},
   "outputs": [
    {
     "data": {
      "text/plain": [
       "customer_age                   40.232143\n",
       "balance                       878.528302\n",
       "call_dura_in_min                2.496639\n",
       "num_contacts_in_campaign       16.680280\n",
       "num_contacts_prev_campaign      0.002326\n",
       "dtype: float64"
      ]
     },
     "execution_count": 158,
     "metadata": {},
     "output_type": "execute_result"
    }
   ],
   "source": [
    "cluster_3[['customer_age','balance','call_dura_in_min','num_contacts_in_campaign','num_contacts_prev_campaign']].apply(np.mean).T"
   ]
  },
  {
   "cell_type": "code",
   "execution_count": 159,
   "id": "73ff4036",
   "metadata": {},
   "outputs": [
    {
     "data": {
      "text/plain": [
       "31566"
      ]
     },
     "execution_count": 159,
     "metadata": {},
     "output_type": "execute_result"
    }
   ],
   "source": [
    "#get the total size of the cluster\n",
    "df.Cluster.size"
   ]
  },
  {
   "cell_type": "code",
   "execution_count": 160,
   "id": "511b18b7",
   "metadata": {},
   "outputs": [
    {
     "data": {
      "text/plain": [
       "1    24424\n",
       "2     5096\n",
       "0     1186\n",
       "3      860\n",
       "Name: Cluster, dtype: int64"
      ]
     },
     "execution_count": 160,
     "metadata": {},
     "output_type": "execute_result"
    }
   ],
   "source": [
    "#get the total values in each segment \n",
    "df.Cluster.value_counts()"
   ]
  },
  {
   "cell_type": "code",
   "execution_count": 161,
   "id": "76fefd98",
   "metadata": {},
   "outputs": [
    {
     "data": {
      "text/plain": [
       "0     1186\n",
       "1    24424\n",
       "2     5096\n",
       "3      860\n",
       "Name: Cluster, dtype: int64"
      ]
     },
     "execution_count": 161,
     "metadata": {},
     "output_type": "execute_result"
    }
   ],
   "source": [
    "pd.Series.sort_index(df.Cluster.value_counts())"
   ]
  },
  {
   "cell_type": "code",
   "execution_count": 162,
   "id": "4df7ae02",
   "metadata": {},
   "outputs": [],
   "source": [
    "size=pd.Series.sort_index(df.Cluster.value_counts())"
   ]
  },
  {
   "cell_type": "code",
   "execution_count": 163,
   "id": "955bf67a",
   "metadata": {},
   "outputs": [],
   "source": [
    "size=pd.concat([pd.Series(df.Cluster.size), pd.Series.sort_index(df.Cluster.value_counts())])"
   ]
  },
  {
   "cell_type": "code",
   "execution_count": 164,
   "id": "0aa50214",
   "metadata": {},
   "outputs": [
    {
     "data": {
      "text/plain": [
       "0    31566\n",
       "0     1186\n",
       "1    24424\n",
       "2     5096\n",
       "3      860\n",
       "dtype: int64"
      ]
     },
     "execution_count": 164,
     "metadata": {},
     "output_type": "execute_result"
    }
   ],
   "source": [
    "size"
   ]
  },
  {
   "cell_type": "code",
   "execution_count": 165,
   "id": "c8eae751",
   "metadata": {},
   "outputs": [],
   "source": [
    "#seg_size \n",
    "seg_size= pd.DataFrame(data=size, columns=['seg_size'])"
   ]
  },
  {
   "cell_type": "code",
   "execution_count": 166,
   "id": "8d2ff00b",
   "metadata": {},
   "outputs": [
    {
     "data": {
      "text/html": [
       "<div>\n",
       "<style scoped>\n",
       "    .dataframe tbody tr th:only-of-type {\n",
       "        vertical-align: middle;\n",
       "    }\n",
       "\n",
       "    .dataframe tbody tr th {\n",
       "        vertical-align: top;\n",
       "    }\n",
       "\n",
       "    .dataframe thead th {\n",
       "        text-align: right;\n",
       "    }\n",
       "</style>\n",
       "<table border=\"1\" class=\"dataframe\">\n",
       "  <thead>\n",
       "    <tr style=\"text-align: right;\">\n",
       "      <th></th>\n",
       "      <th>seg_size</th>\n",
       "    </tr>\n",
       "  </thead>\n",
       "  <tbody>\n",
       "    <tr>\n",
       "      <th>0</th>\n",
       "      <td>31566</td>\n",
       "    </tr>\n",
       "    <tr>\n",
       "      <th>0</th>\n",
       "      <td>1186</td>\n",
       "    </tr>\n",
       "    <tr>\n",
       "      <th>1</th>\n",
       "      <td>24424</td>\n",
       "    </tr>\n",
       "    <tr>\n",
       "      <th>2</th>\n",
       "      <td>5096</td>\n",
       "    </tr>\n",
       "    <tr>\n",
       "      <th>3</th>\n",
       "      <td>860</td>\n",
       "    </tr>\n",
       "  </tbody>\n",
       "</table>\n",
       "</div>"
      ],
      "text/plain": [
       "   seg_size\n",
       "0     31566\n",
       "0      1186\n",
       "1     24424\n",
       "2      5096\n",
       "3       860"
      ]
     },
     "execution_count": 166,
     "metadata": {},
     "output_type": "execute_result"
    }
   ],
   "source": [
    "seg_size"
   ]
  },
  {
   "cell_type": "code",
   "execution_count": 167,
   "id": "cb1b296b",
   "metadata": {},
   "outputs": [],
   "source": [
    "p=size/df.Cluster.size"
   ]
  },
  {
   "cell_type": "code",
   "execution_count": 168,
   "id": "ca486df1",
   "metadata": {},
   "outputs": [],
   "source": [
    "#seg_ditribution\n",
    "seg_PCT= pd.DataFrame(p, columns= ['seg_PCT'])"
   ]
  },
  {
   "cell_type": "code",
   "execution_count": 169,
   "id": "25fd1057",
   "metadata": {},
   "outputs": [
    {
     "data": {
      "text/html": [
       "<div>\n",
       "<style scoped>\n",
       "    .dataframe tbody tr th:only-of-type {\n",
       "        vertical-align: middle;\n",
       "    }\n",
       "\n",
       "    .dataframe tbody tr th {\n",
       "        vertical-align: top;\n",
       "    }\n",
       "\n",
       "    .dataframe thead th {\n",
       "        text-align: right;\n",
       "    }\n",
       "</style>\n",
       "<table border=\"1\" class=\"dataframe\">\n",
       "  <thead>\n",
       "    <tr style=\"text-align: right;\">\n",
       "      <th></th>\n",
       "      <th>seg_PCT</th>\n",
       "    </tr>\n",
       "  </thead>\n",
       "  <tbody>\n",
       "    <tr>\n",
       "      <th>0</th>\n",
       "      <td>1.000000</td>\n",
       "    </tr>\n",
       "    <tr>\n",
       "      <th>0</th>\n",
       "      <td>0.037572</td>\n",
       "    </tr>\n",
       "    <tr>\n",
       "      <th>1</th>\n",
       "      <td>0.773744</td>\n",
       "    </tr>\n",
       "    <tr>\n",
       "      <th>2</th>\n",
       "      <td>0.161440</td>\n",
       "    </tr>\n",
       "    <tr>\n",
       "      <th>3</th>\n",
       "      <td>0.027245</td>\n",
       "    </tr>\n",
       "  </tbody>\n",
       "</table>\n",
       "</div>"
      ],
      "text/plain": [
       "    seg_PCT\n",
       "0  1.000000\n",
       "0  0.037572\n",
       "1  0.773744\n",
       "2  0.161440\n",
       "3  0.027245"
      ]
     },
     "execution_count": 169,
     "metadata": {},
     "output_type": "execute_result"
    }
   ],
   "source": [
    "seg_PCT"
   ]
  },
  {
   "cell_type": "code",
   "execution_count": 170,
   "id": "17ca5a86",
   "metadata": {},
   "outputs": [
    {
     "data": {
      "text/html": [
       "<div>\n",
       "<style scoped>\n",
       "    .dataframe tbody tr th:only-of-type {\n",
       "        vertical-align: middle;\n",
       "    }\n",
       "\n",
       "    .dataframe tbody tr th {\n",
       "        vertical-align: top;\n",
       "    }\n",
       "\n",
       "    .dataframe thead th {\n",
       "        text-align: right;\n",
       "    }\n",
       "</style>\n",
       "<table border=\"1\" class=\"dataframe\">\n",
       "  <thead>\n",
       "    <tr style=\"text-align: right;\">\n",
       "      <th></th>\n",
       "      <th>0</th>\n",
       "      <th>0</th>\n",
       "      <th>1</th>\n",
       "      <th>2</th>\n",
       "      <th>3</th>\n",
       "    </tr>\n",
       "  </thead>\n",
       "  <tbody>\n",
       "    <tr>\n",
       "      <th>seg_PCT</th>\n",
       "      <td>1.0</td>\n",
       "      <td>0.037572</td>\n",
       "      <td>0.773744</td>\n",
       "      <td>0.16144</td>\n",
       "      <td>0.027245</td>\n",
       "    </tr>\n",
       "  </tbody>\n",
       "</table>\n",
       "</div>"
      ],
      "text/plain": [
       "           0         0         1        2         3\n",
       "seg_PCT  1.0  0.037572  0.773744  0.16144  0.027245"
      ]
     },
     "execution_count": 170,
     "metadata": {},
     "output_type": "execute_result"
    }
   ],
   "source": [
    "seg_PCT.T"
   ]
  },
  {
   "cell_type": "code",
   "execution_count": 171,
   "id": "a974282b",
   "metadata": {},
   "outputs": [
    {
     "data": {
      "text/plain": [
       "0    1.000000\n",
       "0    0.037572\n",
       "1    0.773744\n",
       "2    0.161440\n",
       "3    0.027245\n",
       "dtype: float64"
      ]
     },
     "execution_count": 171,
     "metadata": {},
     "output_type": "execute_result"
    }
   ],
   "source": [
    "p"
   ]
  },
  {
   "cell_type": "code",
   "execution_count": 172,
   "id": "92965979",
   "metadata": {},
   "outputs": [
    {
     "data": {
      "text/html": [
       "<div>\n",
       "<style scoped>\n",
       "    .dataframe tbody tr th:only-of-type {\n",
       "        vertical-align: middle;\n",
       "    }\n",
       "\n",
       "    .dataframe tbody tr th {\n",
       "        vertical-align: top;\n",
       "    }\n",
       "\n",
       "    .dataframe thead th {\n",
       "        text-align: right;\n",
       "    }\n",
       "</style>\n",
       "<table border=\"1\" class=\"dataframe\">\n",
       "  <thead>\n",
       "    <tr style=\"text-align: right;\">\n",
       "      <th></th>\n",
       "      <th>0</th>\n",
       "      <th>0</th>\n",
       "      <th>1</th>\n",
       "      <th>2</th>\n",
       "      <th>3</th>\n",
       "    </tr>\n",
       "  </thead>\n",
       "  <tbody>\n",
       "    <tr>\n",
       "      <th>seg_size</th>\n",
       "      <td>31566.0</td>\n",
       "      <td>1186.000000</td>\n",
       "      <td>24424.000000</td>\n",
       "      <td>5096.00000</td>\n",
       "      <td>860.000000</td>\n",
       "    </tr>\n",
       "    <tr>\n",
       "      <th>seg_PCT</th>\n",
       "      <td>1.0</td>\n",
       "      <td>0.037572</td>\n",
       "      <td>0.773744</td>\n",
       "      <td>0.16144</td>\n",
       "      <td>0.027245</td>\n",
       "    </tr>\n",
       "  </tbody>\n",
       "</table>\n",
       "</div>"
      ],
      "text/plain": [
       "                0            0             1           2           3\n",
       "seg_size  31566.0  1186.000000  24424.000000  5096.00000  860.000000\n",
       "seg_PCT       1.0     0.037572      0.773744     0.16144    0.027245"
      ]
     },
     "execution_count": 172,
     "metadata": {},
     "output_type": "execute_result"
    }
   ],
   "source": [
    "# Concatenating the Segment Size and Segment Percentage:\n",
    "pd.concat([seg_size.T, seg_PCT.T], axis=0)"
   ]
  },
  {
   "cell_type": "code",
   "execution_count": null,
   "id": "7ff58394",
   "metadata": {},
   "outputs": [],
   "source": []
  },
  {
   "cell_type": "code",
   "execution_count": null,
   "id": "7de680dd",
   "metadata": {},
   "outputs": [],
   "source": []
  }
 ],
 "metadata": {
  "kernelspec": {
   "display_name": "Python 3 (ipykernel)",
   "language": "python",
   "name": "python3"
  },
  "language_info": {
   "codemirror_mode": {
    "name": "ipython",
    "version": 3
   },
   "file_extension": ".py",
   "mimetype": "text/x-python",
   "name": "python",
   "nbconvert_exporter": "python",
   "pygments_lexer": "ipython3",
   "version": "3.9.1"
  }
 },
 "nbformat": 4,
 "nbformat_minor": 5
}
